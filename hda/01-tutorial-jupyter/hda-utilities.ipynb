{
 "cells": [
  {
   "cell_type": "markdown",
   "metadata": {},
   "source": [
    "## Function to download a product in streaming mode, showing a progress bar. "
   ]
  },
  {
   "cell_type": "code",
   "execution_count": null,
   "metadata": {},
   "outputs": [],
   "source": [
    "def downloadFile(url, headers, directory, total_length = 0) :\n",
    "    \"\"\"\n",
    "    downloadFile(url, headers, directory)\n",
    "    \n",
    "    Download the file using streaming\n",
    "\n",
    "    Parameters\n",
    "    ----------\n",
    "    url:\n",
    "        The URL for the request\n",
    "\n",
    "    headers:\n",
    "        Headers (e.g. auth bearer token)\n",
    "\n",
    "    directory:\n",
    "        Directory for the download\n",
    "\n",
    "    size:\n",
    "        The size of the file\n",
    "\n",
    "    \"\"\"\n",
    "\n",
    "    r = requests.get(url, headers=headers, stream=True)\n",
    "    if r.status_code == 200:\n",
    "        filename = path + get_filename_from_cd(r.headers.get('content-disposition'))\n",
    "        print(\"Downloading \" + filename)\n",
    "        with open(filename, 'wb') as f:\n",
    "            start = time.clock()\n",
    "            print(\"File size is: %8.2f MB\" % (total_length/(1024*1024)))\n",
    "            dl = 0\n",
    "            for chunk in r.iter_content(64738):\n",
    "                dl += len(chunk)\n",
    "                f.write(chunk)\n",
    "                if total_length is not None: # no content length header\n",
    "                    done = int(50 * dl / total_length)\n",
    "                    #sys.stdout.write(\"\\r[%s%s] %s kbps\" % ('=' * done, ' ' * (50-done), dl//(time.clock() - start)))\n",
    "                    print(\"\\r[%s%s]  %8.2f Mbps\" % ('=' * done, ' ' * (50-done), (dl//(time.clock() - start))/(1024*1024)), end='', flush=True)\n",
    "                    #print ('')\n",
    "                else:\n",
    "                    if( dl % (1024)  == 0 ):\n",
    "                        print(\"[%8.2f] MB downloaded, %8.2f kbps\" % (dl / (1024 * 1024), (dl//(time.clock() - start))/1024))\n",
    "            print(\"[%8.2f] MB downloaded, %8.2f kbps\" % (dl / (1024 * 1024), (dl//(time.clock() - start))/1024))\n",
    "            return (time.clock() - start)"
   ]
  },
  {
   "cell_type": "markdown",
   "metadata": {},
   "source": [
    "## Function to get the filename from the HTTP response header - content-disposition (cd)"
   ]
  },
  {
   "cell_type": "code",
   "execution_count": null,
   "metadata": {},
   "outputs": [],
   "source": [
    "def get_filename_from_cd(cd):\n",
    "    \"\"\"\n",
    "    get_filename_from_cd(cd)\n",
    "\n",
    "    Get the filename from content disposition\n",
    "    Parameters\n",
    "    ----------\n",
    "    cd : content disposition\n",
    "        From https://www.w3.org/Protocols/rfc2616/rfc2616-sec19.html\n",
    "        The Content-Disposition response-header field has been proposed as a means for the origin server to suggest a default filename \n",
    "        if the user requests that the content is saved to a file. \n",
    "        This usage is derived from the definition of Content-Disposition in RFC 1806 [35].\n",
    "    \"\"\"  \n",
    "    \n",
    "    if not cd:\n",
    "        return None\n",
    "    fname = re.findall('filename=(.+)', cd)\n",
    "    if len(fname) == 0:\n",
    "        return None\n",
    "    return fname[0][2:-1]"
   ]
  },
  {
   "cell_type": "markdown",
   "metadata": {},
   "source": [
    "## Code snippet that relies on the above defined functions to download files. \n",
    "Note this is a code snippet and cannot be run stand-alone.\n",
    "\n",
    "```python\n",
    "counter = 0\n",
    "for result in results['content']:\n",
    "    externalUri = result['externalUri']\n",
    "    product_size = result['fileSize']\n",
    "\n",
    "    download_url = broker_address + '/datarequest/result/' + job_id + '?externalUri=' + urllib.parse.quote(externalUri)\n",
    "    print( \"Request: \" + download_url)\n",
    "    time_elapsed = downloadFile(download_url, headers, path, product_size)\n",
    "    print( \"Download complete...\")\n",
    "    print (\"Time Elapsed: \" + str(time_elapsed) + \" seconds\")\n",
    "\n",
    "    counter+=1\n",
    "    if counter > files_to_download:\n",
    "        break\n",
    "```        "
   ]
  },
  {
   "cell_type": "code",
   "execution_count": null,
   "metadata": {},
   "outputs": [],
   "source": []
  }
 ],
 "metadata": {
  "kernelspec": {
   "display_name": "Python 3",
   "language": "python",
   "name": "python3"
  },
  "language_info": {
   "codemirror_mode": {
    "name": "ipython",
    "version": 3
   },
   "file_extension": ".py",
   "mimetype": "text/x-python",
   "name": "python",
   "nbconvert_exporter": "python",
   "pygments_lexer": "ipython3",
   "version": "3.6.6"
  }
 },
 "nbformat": 4,
 "nbformat_minor": 2
}
