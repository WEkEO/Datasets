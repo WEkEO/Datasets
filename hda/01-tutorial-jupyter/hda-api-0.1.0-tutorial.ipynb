{
 "cells": [
  {
   "cell_type": "markdown",
   "metadata": {},
   "source": [
    "# Harmonized Data Access (HDA) API Tutorial\n",
    "\n",
    "#### This Jupyter notebook demonstrates the use of Harmonized Data Access (HDA) API to query collection metadata and then submit a user defined query for data. The query is constructed based on the collection metadata. The end result is a list of URLs of the matching data\n",
    "HDA-API version: 0.1.0\n",
    "\n",
    "Dataset used for demonstration: EO:ESA:DAT:SENTINEL-2:MSI1C\n",
    "\n",
    "The complete list of datasets that can be accessed by HDA API is given here: https://github.com/WEkEO/WEkEO-Datasets/blob/master/WEkEO-Collections-HDA.txt\n",
    "\n",
    "It is recommended not to edit this notebook but rather create a copy of this notebook and test it."
   ]
  },
  {
   "cell_type": "markdown",
   "metadata": {},
   "source": [
    "# 1: Initialization"
   ]
  },
  {
   "cell_type": "code",
   "execution_count": null,
   "metadata": {},
   "outputs": [],
   "source": [
    "import requests, re, json, urllib3, sys\n",
    "import shutil\n",
    "import time\n",
    "import urllib.parse\n",
    "urllib3.disable_warnings(urllib3.exceptions.InsecureRequestWarning)\n",
    "\n",
    "CONST_HTTP_SUCCESS_CODE = 200\n",
    "# HDA-API endpoint\n",
    "apis_endpoint=\"https://apis.wekeo.eu\"\n",
    "\n",
    "# Data broker address\n",
    "broker_address = apis_endpoint + \"/databroker/0.1.0\"\n",
    "\n",
    "# Terms and conditions\n",
    "acceptTandC_address = apis_endpoint + \"/dcsi-tac/0.1.0/termsaccepted/Copernicus_General_License\"\n",
    "\n",
    "# Access-token address\n",
    "accessToken_address = apis_endpoint + '/token'\n",
    "\n",
    "# We are going to use the Sentinel-2 Dataset\n",
    "dataset_id = \"EO:ESA:DAT:SENTINEL-2:MSI1C\"  \n",
    "# escape sequence for \":\" is %3A. So encoded \"EO:ESA:DAT:SENTINEL-2:MSI1C\" is EO%3AESA%3ADAT%3ASENTINEL-2%3AMSI1C\n",
    "encoded_dataset_id = urllib.parse.quote(dataset_id)\n",
    "\n",
    "#The following is the default key which will be removed once the user gets the ability to generate the key via WEkEO portal  \n",
    "api_key = \"aTMzOHdPZUViZFQ0UmtBWnZ4Zjl1VV9XX1JjYTpmVzJSUW92d09NZHBXN3BDZzlCcjI1MFVMS3Nh\"  "
   ]
  },
  {
   "cell_type": "markdown",
   "metadata": {},
   "source": [
    "# 2: Get Access Token\n",
    "Access token is generally valid for only one hour"
   ]
  },
  {
   "cell_type": "code",
   "execution_count": null,
   "metadata": {},
   "outputs": [],
   "source": [
    "headers = {\n",
    "    'Authorization': 'Basic ' + api_key\n",
    "}\n",
    "data = [\n",
    "  ('grant_type', 'client_credentials'),\n",
    "]\n",
    "\n",
    "print(\"Step-1: Getting an access token. This token is valid for one hour only.\")\n",
    "response = requests.post(accessToken_address, headers=headers, data=data, verify=False)\n",
    "\n",
    "# If the HTTP response code is 200 (i.e. success), then retrive the token from the response\n",
    "if (response.status_code == CONST_HTTP_SUCCESS_CODE):\n",
    "    access_token = json.loads(response.text)['access_token']\n",
    "    print(\"Success: Access token is \" + access_token)\n",
    "else:\n",
    "    print(\"Error: Unexpected response {}\".format(response))\n",
    "    print(response.headers)    "
   ]
  },
  {
   "cell_type": "markdown",
   "metadata": {},
   "source": [
    "# 3: Get \"Query Metadata\""
   ]
  },
  {
   "cell_type": "code",
   "execution_count": null,
   "metadata": {},
   "outputs": [],
   "source": [
    "headers = {\n",
    "    'Authorization': 'Bearer ' + access_token,\n",
    "}\n",
    "\n",
    "response = requests.get(broker_address + '/querymetadata/' + encoded_dataset_id, headers=headers)\n",
    "\n",
    "print('Step 2: Getting query metadata, URL Is ' + broker_address + '/querymetadata/' + encoded_dataset_id +\"?access_token=\"+access_token)\n",
    "\n",
    "print(\"************** Query Metadata for \" + dataset_id +\" **************\")\n",
    "\n",
    "if (response.status_code == CONST_HTTP_SUCCESS_CODE):\n",
    "    parsedResponse = json.loads(response.text)\n",
    "    print(json.dumps(parsedResponse, indent=4, sort_keys=True))\n",
    "    print(\"**************************************************************************\")\n",
    "else:\n",
    "    print(\"Error: Unexpected response {}\".format(response))"
   ]
  },
  {
   "cell_type": "markdown",
   "metadata": {},
   "source": [
    "# 4: Accept Terms and Conditions"
   ]
  },
  {
   "cell_type": "code",
   "execution_count": null,
   "metadata": {},
   "outputs": [],
   "source": [
    "#  Accept Terms and Conditions for the dataset (if not already)\n",
    "response = requests.get(acceptTandC_address, headers=headers)\n",
    "\n",
    "isTandCAccepted = json.loads(response.text)['accepted']\n",
    "if isTandCAccepted is 'False':\n",
    "    print(\"Accepting Terms and Conditions of Copernicus_General_License\")\n",
    "    response = requests.put(acceptTandC_address, headers=headers)\n",
    "else:\n",
    "    print(\"Copernicus_General_License Terms and Conditions already accepted\")"
   ]
  },
  {
   "cell_type": "markdown",
   "metadata": {},
   "source": [
    "# 5. Send Query for Products\n",
    "Successful submission of a query for products returns a response with job-id, job-status.\n",
    "\n",
    "Example response:\n",
    "```json\n",
    "{\n",
    "   \"jobId\":\"341552be-7ce4-470d-8c32-7e6a31c836f0\",\n",
    "   \"complete\":false,\n",
    "   \"status\":\"STARTED\",\n",
    "   \"message\":null,\n",
    "   \"resultNumber\":null,\n",
    "   \"created\":\"2018-11-21T15:11:38.208\"\n",
    "}\n",
    "```"
   ]
  },
  {
   "cell_type": "code",
   "execution_count": null,
   "metadata": {},
   "outputs": [],
   "source": [
    "#Example query for Sentinel-2 data. This query is constructed based on the response of the metadata query \n",
    "data = {\n",
    "    \"datasetId\": dataset_id,\n",
    "    \"stringChoiceValues\": [\n",
    "        {\n",
    "            \"name\": \"collection\",\n",
    "            \"value\": \"MSI_L1C\"\n",
    "        }\n",
    "    ],\n",
    "    \"dateRangeSelectValues\": [\n",
    "        {\n",
    "            \"name\": \"dtrange\",\n",
    "            \"start\": \"2018-08-19T14:06:23.646Z\",\n",
    "            \"end\": \"2018-11-19T14:06:23.646Z\"\n",
    "        }\n",
    "    ],\n",
    "    \"boundingBoxValues\": [\n",
    "        {\n",
    "            \"name\": \"bbox\",\n",
    "            \"bbox\": [\n",
    "                -180,\n",
    "                -90,\n",
    "                180,\n",
    "                90\n",
    "            ]\n",
    "        }\n",
    "    ]\n",
    "}\n",
    "\n",
    "response = requests.post(broker_address + '/datarequest', headers=headers, json=data, verify=False)\n",
    "\n",
    "if (response.status_code == CONST_HTTP_SUCCESS_CODE):    \n",
    "    job_id = json.loads(response.text)['jobId']\n",
    "    print (\"Query successfully submitted. Job ID is \" + job_id)\n",
    "else:\n",
    "    print(\"Error: Unexpected response {}\".format(response))"
   ]
  },
  {
   "cell_type": "markdown",
   "metadata": {},
   "source": [
    "# 6. Check job status\n",
    "Example response of a successfully completed job/query:\n",
    "```json\n",
    "{\n",
    "   \"jobId\":\"341552be-7ce4-470d-8c32-7e6a31c836f0\",\n",
    "   \"complete\":true,\n",
    "   \"status\":\"COMPLETED\",\n",
    "   \"message\":null,\n",
    "   \"resultNumber\":729327,\n",
    "   \"created\":\"2018-11-21T15:11:38.208\"\n",
    "}\n",
    "```"
   ]
  },
  {
   "cell_type": "code",
   "execution_count": null,
   "metadata": {},
   "outputs": [],
   "source": [
    "isComplete = False\n",
    "while not isComplete:\n",
    "    response = requests.get(broker_address + '/datarequest/status/' + job_id, headers=headers)\n",
    "    results = json.loads(response.text)['resultNumber']\n",
    "    isComplete = json.loads(response.text)['complete']\n",
    "    print(\"Has the Job \" + job_id + \" completed ?  \" + str(isComplete))\n",
    "    # sleep for 2 seconds before checking the job status again\n",
    "    if not isComplete:\n",
    "        time.sleep(2)\n",
    "\n",
    "numberOfResults = str(results)\n",
    "print (\"Total number of products/results :\" + numberOfResults)"
   ]
  },
  {
   "cell_type": "markdown",
   "metadata": {},
   "source": [
    "# 7. Get Results List\n",
    "The query results are paginated. Parameters for page number and the number of results per page can be used to fetch only the necessary results. The page number are numbered from 0 (i.e. first page is numbered 0).  \n",
    "\n",
    "In the example below, each page contains 5 results and we are going to show the results from the 3<sup>rd</sup> page (zero based numbering) "
   ]
  },
  {
   "cell_type": "code",
   "execution_count": null,
   "metadata": {},
   "outputs": [],
   "source": [
    "params = {'page':'2', 'size':'5'}\n",
    "response = requests.get(broker_address + '/datarequest/jobs/' + job_id + '/result', headers=headers, params = params)\n",
    "results = json.loads(response.text)\n",
    "\n",
    "print(\"************** Results  *******************************\")\n",
    "print(json.dumps(results, indent=4, sort_keys=True))\n",
    "print(\"*********************************************\")"
   ]
  },
  {
   "cell_type": "markdown",
   "metadata": {},
   "source": [
    "# 8. Get Results Download Link"
   ]
  },
  {
   "cell_type": "code",
   "execution_count": null,
   "metadata": {},
   "outputs": [],
   "source": [
    "for result in results['content']:\n",
    "    externalUri = result['externalUri']\n",
    "    product_size = result['fileSize']/(1024*1024)\n",
    "    product_name = result['fileName']\n",
    "    download_url = broker_address + '/datarequest/result/' + job_id + '?externalUri=' + urllib.parse.quote(externalUri) +\"&access_token=\"+access_token\n",
    "    print(\"Download link for \" + product_name + \"(\" + \"{:.2f}\".format(product_size) + \" MB) :\")\n",
    "    print(download_url)\n",
    "    print(\"\")"
   ]
  },
  {
   "cell_type": "code",
   "execution_count": null,
   "metadata": {},
   "outputs": [],
   "source": []
  }
 ],
 "metadata": {
  "kernelspec": {
   "display_name": "Python 3",
   "language": "python",
   "name": "python3"
  },
  "language_info": {
   "codemirror_mode": {
    "name": "ipython",
    "version": 3
   },
   "file_extension": ".py",
   "mimetype": "text/x-python",
   "name": "python",
   "nbconvert_exporter": "python",
   "pygments_lexer": "ipython3",
   "version": "3.6.6"
  }
 },
 "nbformat": 4,
 "nbformat_minor": 2
}
